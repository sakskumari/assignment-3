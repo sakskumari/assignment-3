{
 "cells": [
  {
   "cell_type": "code",
   "execution_count": 1,
   "id": "6bae827b",
   "metadata": {},
   "outputs": [
    {
     "name": "stdout",
     "output_type": "stream",
     "text": [
      "Requirement already satisfied: selenium in c:\\users\\administrator\\anaconda3\\lib\\site-packages (4.6.0)\n",
      "Requirement already satisfied: trio~=0.17 in c:\\users\\administrator\\anaconda3\\lib\\site-packages (from selenium) (0.22.0)\n",
      "Requirement already satisfied: certifi>=2021.10.8 in c:\\users\\administrator\\anaconda3\\lib\\site-packages (from selenium) (2021.10.8)\n",
      "Requirement already satisfied: urllib3[socks]~=1.26 in c:\\users\\administrator\\anaconda3\\lib\\site-packages (from selenium) (1.26.9)\n",
      "Requirement already satisfied: trio-websocket~=0.9 in c:\\users\\administrator\\anaconda3\\lib\\site-packages (from selenium) (0.9.2)\n",
      "Requirement already satisfied: cffi>=1.14 in c:\\users\\administrator\\anaconda3\\lib\\site-packages (from trio~=0.17->selenium) (1.15.0)\n",
      "Requirement already satisfied: outcome in c:\\users\\administrator\\anaconda3\\lib\\site-packages (from trio~=0.17->selenium) (1.2.0)\n",
      "Requirement already satisfied: async-generator>=1.9 in c:\\users\\administrator\\anaconda3\\lib\\site-packages (from trio~=0.17->selenium) (1.10)\n",
      "Requirement already satisfied: attrs>=19.2.0 in c:\\users\\administrator\\anaconda3\\lib\\site-packages (from trio~=0.17->selenium) (21.4.0)\n",
      "Requirement already satisfied: sortedcontainers in c:\\users\\administrator\\anaconda3\\lib\\site-packages (from trio~=0.17->selenium) (2.4.0)\n",
      "Requirement already satisfied: sniffio in c:\\users\\administrator\\anaconda3\\lib\\site-packages (from trio~=0.17->selenium) (1.2.0)\n",
      "Requirement already satisfied: idna in c:\\users\\administrator\\anaconda3\\lib\\site-packages (from trio~=0.17->selenium) (3.3)\n",
      "Requirement already satisfied: exceptiongroup>=1.0.0rc9 in c:\\users\\administrator\\anaconda3\\lib\\site-packages (from trio~=0.17->selenium) (1.0.1)\n",
      "Requirement already satisfied: pycparser in c:\\users\\administrator\\anaconda3\\lib\\site-packages (from cffi>=1.14->trio~=0.17->selenium) (2.21)\n",
      "Requirement already satisfied: wsproto>=0.14 in c:\\users\\administrator\\anaconda3\\lib\\site-packages (from trio-websocket~=0.9->selenium) (1.2.0)\n",
      "Requirement already satisfied: PySocks!=1.5.7,<2.0,>=1.5.6 in c:\\users\\administrator\\anaconda3\\lib\\site-packages (from urllib3[socks]~=1.26->selenium) (1.7.1)\n",
      "Requirement already satisfied: h11<1,>=0.9.0 in c:\\users\\administrator\\anaconda3\\lib\\site-packages (from wsproto>=0.14->trio-websocket~=0.9->selenium) (0.14.0)\n"
     ]
    }
   ],
   "source": [
    "!pip install selenium"
   ]
  },
  {
   "cell_type": "code",
   "execution_count": 2,
   "id": "6c9ddfb8",
   "metadata": {},
   "outputs": [],
   "source": [
    "import selenium\n",
    "from selenium import webdriver\n",
    "import pandas as pd\n",
    "from selenium.webdriver.common.by import By\n",
    "import warnings\n",
    "warnings.filterwarnings(\"ignore\")\n",
    "import time"
   ]
  },
  {
   "cell_type": "code",
   "execution_count": 3,
   "id": "e5881084",
   "metadata": {},
   "outputs": [],
   "source": [
    "driver = webdriver.Chrome(r'C:\\Users\\Administrator\\Downloads\\chromedriver_win32.zip\\chromedriver.exe')\n"
   ]
  },
  {
   "cell_type": "code",
   "execution_count": 9,
   "id": "86940576",
   "metadata": {},
   "outputs": [],
   "source": [
    "driver.maximize_window()"
   ]
  },
  {
   "cell_type": "markdown",
   "id": "520043aa",
   "metadata": {},
   "source": [
    "## Write a python program which searches all the product under a particular product from www.amazon.in."
   ]
  },
  {
   "cell_type": "code",
   "execution_count": 12,
   "id": "3ba9e5ff",
   "metadata": {},
   "outputs": [],
   "source": [
    "URL = 'https://www.amazon.in/'\n",
    "driver.get(url)"
   ]
  },
  {
   "cell_type": "code",
   "execution_count": 18,
   "id": "06dcdf28",
   "metadata": {},
   "outputs": [],
   "source": [
    "search_btn = driver.find_element(By.XPATH,'/html/body/div[1]/header/div/div[1]/div[2]/div/form/div[2]/div[1]/input')\n",
    "search_btn.send_keys(\"hand watch\")\n",
    "                                 "
   ]
  },
  {
   "cell_type": "code",
   "execution_count": 34,
   "id": "2c3afef3",
   "metadata": {},
   "outputs": [],
   "source": [
    "search_btn = driver.find_element(By.XPATH,'/html/body/div[1]/header/div/div[1]/div[2]/div/form/div[3]/div/span/input')\n",
    "search_btn.click()"
   ]
  },
  {
   "cell_type": "code",
   "execution_count": 47,
   "id": "3934acb1",
   "metadata": {},
   "outputs": [
    {
     "data": {
      "text/plain": [
       "['Betty',\n",
       " 'Betty',\n",
       " 'VILLS LAURRENS',\n",
       " 'FROZIL',\n",
       " 'SHARAV',\n",
       " 'Eryue',\n",
       " 'REDUX',\n",
       " 'SWISSTONE',\n",
       " 'TIMEWEAR',\n",
       " 'WINNER',\n",
       " '',\n",
       " '',\n",
       " '',\n",
       " '',\n",
       " '',\n",
       " 'Matrix',\n",
       " 'TIMEWEAR',\n",
       " 'TIMEX',\n",
       " 'STYLEDOSE',\n",
       " 'TIMEWEAR',\n",
       " 'Matrix',\n",
       " 'Relish',\n",
       " 'CURREN',\n",
       " 'EARNSHAW',\n",
       " 'Bulova',\n",
       " '',\n",
       " '',\n",
       " '',\n",
       " '',\n",
       " '',\n",
       " 'Matrix',\n",
       " 'TIMEWEAR',\n",
       " 'boAt',\n",
       " 'REDUX',\n",
       " 'REDUX',\n",
       " 'Fastrack',\n",
       " 'IIK COLLECTION',\n",
       " 'Acnos',\n",
       " 'CERO',\n",
       " 'Emartos',\n",
       " 'Sonata',\n",
       " 'TIMEWEAR',\n",
       " 'REDUX',\n",
       " 'RPS FASHION WITH DEVICE OF R',\n",
       " 'TIMEWEAR',\n",
       " 'Relish',\n",
       " 'Sonata',\n",
       " 'TAGG',\n",
       " 'Fastrack',\n",
       " 'Acnos',\n",
       " 'Shocknshop',\n",
       " 'SWADESI STUFF',\n",
       " 'Sonata',\n",
       " 'Shocknshop',\n",
       " 'TIMEWEAR',\n",
       " 'SWISSTYLE',\n",
       " 'LORENZ',\n",
       " 'Sylvi',\n",
       " 'Fire-Boltt',\n",
       " 'SWADESI STUFF',\n",
       " 'TIMEWEAR',\n",
       " 'Acnos',\n",
       " 'Acnos',\n",
       " 'VILLS LAURRENS',\n",
       " 'Sonata',\n",
       " 'TIMEWEAR',\n",
       " 'TIMEWEAR',\n",
       " 'SKMEI',\n",
       " 'TIMEX',\n",
       " 'REDUX',\n",
       " 'SELLORIA',\n",
       " 'SWADESI STUFF',\n",
       " 'Imperial Club',\n",
       " 'Discover Diamonds',\n",
       " 'Discover Diamonds',\n",
       " 'FROZIL',\n",
       " 'Amazfit']"
      ]
     },
     "execution_count": 47,
     "metadata": {},
     "output_type": "execute_result"
    }
   ],
   "source": [
    "brand_name = []\n",
    "name_tags = driver.find_elements(By.XPATH,\"//span[@class='a-size-base-plus a-color-base']\")\n",
    "for i in name_tags:\n",
    "    brand_name.append(i.text)\n",
    "\n",
    "\n",
    "brand_name          "
   ]
  },
  {
   "cell_type": "code",
   "execution_count": 55,
   "id": "1d35390d",
   "metadata": {},
   "outputs": [
    {
     "data": {
      "text/plain": [
       "77"
      ]
     },
     "execution_count": 55,
     "metadata": {},
     "output_type": "execute_result"
    }
   ],
   "source": [
    "len(brand_name)"
   ]
  },
  {
   "cell_type": "code",
   "execution_count": 37,
   "id": "dbc1c841",
   "metadata": {},
   "outputs": [
    {
     "data": {
      "text/plain": [
       "[\"RADHE Enterprise Unisex's Wrist Watches with Quartz Movement\",\n",
       " \"RADHE Enterprise Men's Wrist Watches with Quartz Movement\",\n",
       " 'HMT-DLX BLK Quartz Original Gold Plated Day & Date Functioning Watch for Boys Analog Watch - for Men',\n",
       " 'Analog and Digital Round Square Multi Dial Combo of 2 Watches Army Belt Sports Multi Functional Watch for Boys and Watch for Mens Pack of 2',\n",
       " 'Smart Watch ID116 Best Hand Watch for The Youth of The New Generation with Smart Compatibillity of All Android Phones New Year 2022 Model(ID116) Black',\n",
       " 'Eryue 9022G Watch Men Au ATIC Mechanical Movement Wrist Watch Waterproof Calendar L Nous Watch for Men',\n",
       " \"Analog Men's Watch (Brown Dial Colored Strap)\",\n",
       " \"Analogue Women's Watch (Black Dial Gold Colored Strap)\",\n",
       " 'Analog Pink Butterfly Silver Dial Stainless Steel Strap Watch for Women',\n",
       " \"Fashion Analogue Men's Watch (Gold Dial Colored Strap)\",\n",
       " '',\n",
       " '',\n",
       " '',\n",
       " '',\n",
       " '',\n",
       " 'Day & Date Display Analog Wrist Watch for Men & Boys',\n",
       " 'Slim Two Hands Genuine Leather Strap Watch for Men',\n",
       " \"Analog Men's Watch\",\n",
       " 'Branded Analogue Black Dial Magnet Watch With Gift Bracelet For Women Or Girls And Watch For Girl Or Women (Combo Of 3)',\n",
       " 'Analog Slim Two Hands Leather Strap Watch for Men',\n",
       " 'Signature Two Hands & Cut Glass with Leather Strap Analog Watch for Men & Boys',\n",
       " \"Analogue Men's Watch (Black Dial & Strap)\",\n",
       " \"Men's Quartz Leather Chronograph Watch and Fashion Bracelet Set Luxury Wristwatch Gifts\",\n",
       " \"Longitude Analog Silver Dial Men's Watch-ES-8006-02\",\n",
       " \"Men's 96B107 Strap Silver Dial Watch\",\n",
       " '',\n",
       " '',\n",
       " '',\n",
       " '',\n",
       " '',\n",
       " 'Day & Date Analog Wrist Watch for Men & Boys (Black)',\n",
       " 'Analog Two Hands Stainless Chain Slim Watch for Men',\n",
       " 'boAt Wave Call Smart Watch, Smart Talk with Advanced Dedicated Bluetooth Calling Chip, 1.69” HD Display with 550 NITS & 70% Color Gamut, 150+ Watch Faces, Multi-Sport Modes,HR,SpO2, IP68(Active Black)',\n",
       " \"Analogue IPG Golden Dial Men’s & Boy's Watch\",\n",
       " \"Analog Linear Designer Dial Men’s & Boy's Watch\",\n",
       " \"Black Magic Analog Black Dial Men's Watch NM3089SL05/NN3089SL05/NP3089SL05\",\n",
       " 'Analogue Round Formal Studed Dial with Bracelet Strap Wrist Watch for Boys& Men',\n",
       " \"Brand - A Digital Watch with Square LED Shockproof Multi-Functional Automatic 5 Color Dial White Strap Waterproof Digital Sports Watch for Men's Kids Watch for Boys - Watch for Men\",\n",
       " \"Analogue Black Dial Metal Strap and King Bracelet Combo Watch for Men & Boys's\",\n",
       " 'Black Dial Arrow Analog Watch with King Bracelet for Men (Pack of 2)',\n",
       " \"Analog White Dial Men's Watch -NJ7987YL02W\",\n",
       " 'Analog Day Date Functioning Stainless Steel Chain Watch for Men',\n",
       " \"Analog Blue-Grey Dial Men's Watch\",\n",
       " \"Digital Boy's Watch (Black Dial Black Colored Strap)\",\n",
       " 'Analog Number Dial Leather Strap Watch for Men',\n",
       " \"Analogue Men's & Boys' Watch (Black Dial Black Colored Strap)\",\n",
       " \"Yuva Analog Black Dial Men's Watch-NL7924SL04/NP7924SL04\",\n",
       " 'TAGG Verve NEO Smartwatch 1.69\" HD Display | 60+ Sports Modes | 10 Days Battery | 150+ Maximum Watch Face Library | Waterproof | 24*7 HeartRate & Blood Oxygen Tracking | Games & Calculator | Black',\n",
       " \"Casual Analog Navy Blue Dial Men's Watch-NL3120SM02/NP3120SM02\",\n",
       " 'Brand - A Branded Watch 4 Different Dial Black-Blue-Pink-White Stainless Steel Silver Band with Silver braclet and Watch for Women Watch for Girls',\n",
       " 'Digital Sports Multi Functional Black Dial Watch for Mens Boys -315RED',\n",
       " 'Square Multi DIAL Analog Silicon Strap ADDI Stylish Designer Analog Watch - for Boys',\n",
       " \"Analog Champagne Dial Men's Watch-NN77049YM01/NP77049YM01\",\n",
       " 'LED Digital Sports Multi Functional Black Dial Watch for Mens Boys -W1257',\n",
       " 'Analog Slim Series Two Hands Leather Strap Square Watch for Men',\n",
       " \"Analog Black Dial Men's Watch-SS-GR06612-BLK-CH\",\n",
       " \"Analogue Men's Watch ( Black Dial & Strap )\",\n",
       " \"Multi-Functional Boys Casual Business Mens Luxury Stylish Watch Black Dial Leather Strap Wrist Watches for Men-Daily Use Analog Digital Sports Men's Watch\",\n",
       " 'Fire-Boltt Ninja 3 Smartwatch Full Touch 1.69 \" & 60 Sports Modes with IP68, Sp02 Tracking, Over 100 Cloud based watch faces ( Silver )',\n",
       " 'All Black Stainless Steel Strap Stylish Analog Watch for Men',\n",
       " \"Digital Men's Watch\",\n",
       " '3 Color Army Shockproof Waterproof Digital Sports Watch for Mens Kids Sports Watch for Boys - Military Army Watch for Men',\n",
       " 'Brown Blue and Black Analog Watches for Men Pack of - 3 and Brand Box (l-01-02-05)',\n",
       " 'HMT-DLX Original Gold Plated Day & Date Functioning Watch for Boys Analog Watch - for Men',\n",
       " \"Essentials Analog Blue Dial Women's Watch-NP87020SM01\",\n",
       " 'Analog Two Hands Leather Strap Slim Watch for Men',\n",
       " 'Slim Two Hands Analog Watch for Women',\n",
       " \"Men's Digital Sports Watch, LED Square Large Face Analog Quartz Wrist Watch with Multi-Time Zone Waterproof Stopwatch\",\n",
       " 'TW0TG7502',\n",
       " \"MW-404 Analogue Green Dial Men’s & Boy's Watch\",\n",
       " 'S Shock Digital Kids Watch for Boys [7-30 Years]',\n",
       " \"Digital Boy's Watch (Multicolored Dial, Multicolored Strap)\",\n",
       " \"Analogue Men's Watch (Gold & Black Dial Gold Colored Strap) (Pack of 3)\",\n",
       " 'HMT Jubilee para Shock 17 Jewels Silver Dial Mechanical Hand-Winding Antique Wrist Watch',\n",
       " 'HMT Janata para Shock 17 Jewels Blue Dial Radium Hands Mechanical Hand-Winding Antique Wrist Watch',\n",
       " 'Analogue Blue Dial Sports Watch for Boys -102',\n",
       " 'Amazfit GTS 4 Mini Smart Watch, Alexa Built-in Fitness Tracker with 24H Heart Rate Blood Oxygen Monitor, 5 Satellite Positioning, 120+ Sports Modes, 5 ATM Waterproof (Midnight Black)']"
      ]
     },
     "execution_count": 37,
     "metadata": {},
     "output_type": "execute_result"
    }
   ],
   "source": [
    "product_names = []\n",
    "product_tags = driver.find_elements(By.XPATH,\"//span[@class='a-size-base-plus a-color-base a-text-normal']\")\n",
    "for i in product_tags:\n",
    "    product_names.append(i.text)\n",
    "    \n",
    "product_names"
   ]
  },
  {
   "cell_type": "code",
   "execution_count": 53,
   "id": "963068ab",
   "metadata": {},
   "outputs": [
    {
     "data": {
      "text/plain": [
       "77"
      ]
     },
     "execution_count": 53,
     "metadata": {},
     "output_type": "execute_result"
    }
   ],
   "source": [
    "len(product_names)"
   ]
  },
  {
   "cell_type": "code",
   "execution_count": 56,
   "id": "fb1f3e28",
   "metadata": {},
   "outputs": [
    {
     "data": {
      "text/plain": [
       "['1,999',\n",
       " '1,999',\n",
       " '1,999',\n",
       " '299',\n",
       " '349',\n",
       " '398',\n",
       " '380',\n",
       " '499',\n",
       " '9,776',\n",
       " '299',\n",
       " '445',\n",
       " '339',\n",
       " '4,999',\n",
       " '',\n",
       " '',\n",
       " '',\n",
       " '',\n",
       " '',\n",
       " '299',\n",
       " '399',\n",
       " '849',\n",
       " '299',\n",
       " '379',\n",
       " '279',\n",
       " '369',\n",
       " '6,107',\n",
       " '13,927',\n",
       " '26,507',\n",
       " '',\n",
       " '',\n",
       " '',\n",
       " '',\n",
       " '',\n",
       " '299',\n",
       " '399',\n",
       " '1,999',\n",
       " '349',\n",
       " '290',\n",
       " '2,216',\n",
       " '322',\n",
       " '359',\n",
       " '289',\n",
       " '429',\n",
       " '649',\n",
       " '319',\n",
       " '283',\n",
       " '95',\n",
       " '248',\n",
       " '319',\n",
       " '949',\n",
       " '1,299',\n",
       " '1,429',\n",
       " '299',\n",
       " '281',\n",
       " '199',\n",
       " '749',\n",
       " '447',\n",
       " '399',\n",
       " '369',\n",
       " '179',\n",
       " '986',\n",
       " '1,799',\n",
       " '279',\n",
       " '699',\n",
       " '284',\n",
       " '355',\n",
       " '398',\n",
       " '725',\n",
       " '399',\n",
       " '379',\n",
       " '949',\n",
       " '1,766',\n",
       " '381',\n",
       " '219',\n",
       " '249',\n",
       " '599',\n",
       " '2,900']"
      ]
     },
     "execution_count": 56,
     "metadata": {},
     "output_type": "execute_result"
    }
   ],
   "source": [
    "price = []\n",
    "price_total = driver.find_elements(By.XPATH,\"//span[@class='a-price-whole']\")\n",
    "for i in price_total:\n",
    "    price.append(i.text)\n",
    "    \n",
    "    \n",
    "price[0:77]"
   ]
  },
  {
   "cell_type": "code",
   "execution_count": 57,
   "id": "e8b9f377",
   "metadata": {},
   "outputs": [
    {
     "data": {
      "text/plain": [
       "85"
      ]
     },
     "execution_count": 57,
     "metadata": {},
     "output_type": "execute_result"
    }
   ],
   "source": [
    "len(price)"
   ]
  },
  {
   "cell_type": "code",
   "execution_count": 49,
   "id": "9696450d",
   "metadata": {},
   "outputs": [
    {
     "data": {
      "text/plain": [
       "['Monday, November 28',\n",
       " 'Monday, November 28',\n",
       " 'Saturday, November 26',\n",
       " 'Monday, November 28',\n",
       " 'Sunday, November 27',\n",
       " 'Tuesday, December 6',\n",
       " 'Friday, December 9',\n",
       " 'tomorrow, November 25',\n",
       " 'tomorrow, November 25',\n",
       " 'tomorrow, November 25',\n",
       " 'Thursday, January 5',\n",
       " 'Friday, January 6',\n",
       " '',\n",
       " '',\n",
       " '',\n",
       " '',\n",
       " '',\n",
       " '',\n",
       " '',\n",
       " '',\n",
       " 'tomorrow, November 25',\n",
       " 'tomorrow, November 25',\n",
       " 'Saturday, November 26',\n",
       " 'tomorrow, November 25',\n",
       " 'tomorrow, November 25',\n",
       " 'tomorrow, November 25',\n",
       " 'Saturday, November 26',\n",
       " 'Friday, December 23',\n",
       " 'Saturday, December 24',\n",
       " 'tomorrow, November 25',\n",
       " 'Saturday, December 10',\n",
       " 'Wednesday, December 14',\n",
       " '',\n",
       " '',\n",
       " '',\n",
       " '',\n",
       " '',\n",
       " '',\n",
       " '',\n",
       " '',\n",
       " '',\n",
       " 'tomorrow, November 25',\n",
       " 'tomorrow, November 25',\n",
       " 'tomorrow, November 25',\n",
       " 'tomorrow, November 25',\n",
       " 'tomorrow, November 25',\n",
       " 'tomorrow, November 25',\n",
       " 'Monday, November 28',\n",
       " 'Monday, November 28',\n",
       " 'Saturday, November 26',\n",
       " 'tomorrow, November 25',\n",
       " 'tomorrow, November 25',\n",
       " 'tomorrow, November 25',\n",
       " 'Monday, November 28',\n",
       " 'tomorrow, November 25',\n",
       " 'tomorrow, November 25',\n",
       " 'tomorrow, November 25',\n",
       " 'tomorrow, November 25',\n",
       " 'tomorrow, November 25',\n",
       " 'tomorrow, November 25',\n",
       " 'tomorrow, November 25',\n",
       " 'Monday, November 28',\n",
       " 'Saturday, November 26',\n",
       " 'tomorrow, November 25',\n",
       " 'tomorrow, November 25',\n",
       " 'Saturday, November 26',\n",
       " 'Saturday, November 26',\n",
       " 'Monday, November 28',\n",
       " 'tomorrow, November 25',\n",
       " 'Monday, November 28',\n",
       " 'tomorrow, November 25',\n",
       " 'tomorrow, November 25',\n",
       " 'Monday, November 28',\n",
       " 'Saturday, November 26',\n",
       " 'Saturday, November 26',\n",
       " 'tomorrow, November 25',\n",
       " 'tomorrow, November 25']"
      ]
     },
     "execution_count": 49,
     "metadata": {},
     "output_type": "execute_result"
    }
   ],
   "source": [
    "expect_delvy = []\n",
    "delvy_expect = driver.find_elements(By.XPATH,\"//span[@class='a-color-base a-text-bold']\")\n",
    "for i in delvy_expect:\n",
    "    expect_delvy.append(i.text)\n",
    "    \n",
    "expect_delvy[0:77]"
   ]
  },
  {
   "cell_type": "code",
   "execution_count": 51,
   "id": "1f9180b9",
   "metadata": {},
   "outputs": [
    {
     "data": {
      "text/plain": [
       "86"
      ]
     },
     "execution_count": 51,
     "metadata": {},
     "output_type": "execute_result"
    }
   ],
   "source": [
    "len(expect_delvy)"
   ]
  },
  {
   "cell_type": "code",
   "execution_count": 43,
   "id": "44f0fcf7",
   "metadata": {},
   "outputs": [
    {
     "name": "stdout",
     "output_type": "stream",
     "text": [
      "https://www.amazon.in/sspa/click?ie=UTF8&spc=MTo0MDY4NDk1MjY4MTIzMzc6MTY2OTI4ODQ3NDpzcF9hdGY6MjAwODI2NjczMzkyOTg6OjA6Og&url=%2FEnterprise-Unisexs-Watches-Quartz-Movement%2Fdp%2FB0BC4F3S5C%2Fref%3Dsr_1_1_sspa%3Fkeywords%3Dhand%2Bwatch%26qid%3D1669288474%26qu%3DeyJxc2MiOiI3LjM3IiwicXNhIjoiNy4yMiIsInFzcCI6IjUuNzkifQ%253D%253D%26sr%3D8-1-spons%26sp_csd%3Dd2lkZ2V0TmFtZT1zcF9hdGY%26psc%3D1\n",
      "https://www.amazon.in/sspa/click?ie=UTF8&spc=MTo0MDY4NDk1MjY4MTIzMzc6MTY2OTI4ODQ3NDpzcF9hdGY6MjAwODI2NjczMzk2OTg6OjA6Og&url=%2FRADHE-Enterprise-Watches-Quartz-Movement%2Fdp%2FB0BC4CFYW8%2Fref%3Dsr_1_2_sspa%3Fkeywords%3Dhand%2Bwatch%26qid%3D1669288474%26qu%3DeyJxc2MiOiI3LjM3IiwicXNhIjoiNy4yMiIsInFzcCI6IjUuNzkifQ%253D%253D%26sr%3D8-2-spons%26sp_csd%3Dd2lkZ2V0TmFtZT1zcF9hdGY%26psc%3D1\n",
      "https://www.amazon.in/sspa/click?ie=UTF8&spc=MTo0MDY4NDk1MjY4MTIzMzc6MTY2OTI4ODQ3NDpzcF9hdGY6MjAwMjcxNTc4ODUyOTg6OjA6Og&url=%2FLaurrens-HMT-DLX-Quartz-Original-Functioning%2Fdp%2FB09Q947D23%2Fref%3Dsr_1_3_sspa%3Fkeywords%3Dhand%2Bwatch%26qid%3D1669288474%26qu%3DeyJxc2MiOiI3LjM3IiwicXNhIjoiNy4yMiIsInFzcCI6IjUuNzkifQ%253D%253D%26sr%3D8-3-spons%26sp_csd%3Dd2lkZ2V0TmFtZT1zcF9hdGY%26psc%3D1\n",
      "https://www.amazon.in/sspa/click?ie=UTF8&spc=MTo0MDY4NDk1MjY4MTIzMzc6MTY2OTI4ODQ3NDpzcF9hdGY6MjAwODY4NzU1MjIxOTg6OjA6Og&url=%2FFrozil-Analog-Digital-Watches-Functional%2Fdp%2FB0BBN2FN19%2Fref%3Dsr_1_4_sspa%3Fkeywords%3Dhand%2Bwatch%26qid%3D1669288474%26qu%3DeyJxc2MiOiI3LjM3IiwicXNhIjoiNy4yMiIsInFzcCI6IjUuNzkifQ%253D%253D%26sr%3D8-4-spons%26sp_csd%3Dd2lkZ2V0TmFtZT1zcF9hdGY%26psc%3D1\n",
      "https://www.amazon.in/Smart-Generation-Compatibillity-Android-Phones/dp/B09PNM6QSV/ref=sr_1_5?keywords=hand+watch&qid=1669288474&qu=eyJxc2MiOiI3LjM3IiwicXNhIjoiNy4yMiIsInFzcCI6IjUuNzkifQ%3D%3D&sr=8-5\n",
      "https://www.amazon.in/Eryue-Mechanical-Movement-Waterproof-Calendar/dp/B0BMT7X1RG/ref=sr_1_omk_6?keywords=hand+watch&qid=1669288474&qu=eyJxc2MiOiI3LjM3IiwicXNhIjoiNy4yMiIsInFzcCI6IjUuNzkifQ%3D%3D&sr=8-6\n",
      "https://www.amazon.in/Redux-Analogue-Brown-Watch-RWS0200S/dp/B07D9G1GHB/ref=sr_1_7?keywords=hand+watch&qid=1669288474&qu=eyJxc2MiOiI3LjM3IiwicXNhIjoiNy4yMiIsInFzcCI6IjUuNzkifQ%3D%3D&sr=8-7\n",
      "https://www.amazon.in/SWISSTONE-Analogue-Black-Womens-Jewels068-Blkgld/dp/B074PVFWLM/ref=sxin_15_slsr_d_i_fs4star_fa_2_B074PVFWLM?content-id=amzn1.sym.86f966cb-cf80-4eda-a765-89e42fae403a%3Aamzn1.sym.86f966cb-cf80-4eda-a765-89e42fae403a&cv_ct_cx=hand+watch&keywords=hand+watch&pd_rd_i=B074PVFWLM&pd_rd_r=5a1f71a9-12a5-44aa-a24b-4714e11824c0&pd_rd_w=I24oT&pd_rd_wg=kdcgr&pf_rd_p=86f966cb-cf80-4eda-a765-89e42fae403a&pf_rd_r=J5HPGHWQ81TM7GZRGN2T&psc=1&qid=1669288474&qu=eyJxc2MiOiI3LjM3IiwicXNhIjoiNy4yMiIsInFzcCI6IjUuNzkifQ%3D%3D&sr=1-1-41e0d225-3819-4755-898e-7f0f48633b47\n",
      "https://www.amazon.in/TIMEWEAR-Analog-Butterfly-Silver-Stainless/dp/B09MKN5T5F/ref=sxin_15_slsr_d_i_fs4star_fa_4_B09MKN5T5F?content-id=amzn1.sym.86f966cb-cf80-4eda-a765-89e42fae403a%3Aamzn1.sym.86f966cb-cf80-4eda-a765-89e42fae403a&cv_ct_cx=hand+watch&keywords=hand+watch&pd_rd_i=B09MKN5T5F&pd_rd_r=5a1f71a9-12a5-44aa-a24b-4714e11824c0&pd_rd_w=I24oT&pd_rd_wg=kdcgr&pf_rd_p=86f966cb-cf80-4eda-a765-89e42fae403a&pf_rd_r=J5HPGHWQ81TM7GZRGN2T&psc=1&qid=1669288474&qu=eyJxc2MiOiI3LjM3IiwicXNhIjoiNy4yMiIsInFzcCI6IjUuNzkifQ%3D%3D&sr=1-2-41e0d225-3819-4755-898e-7f0f48633b47\n",
      "https://www.amazon.in/Winner-Fashion-Mechanical-Triangle-Skeleton/dp/B07951233S/ref=sxin_15_slsr_d_i_fs4star_fa_5_B07951233S?content-id=amzn1.sym.86f966cb-cf80-4eda-a765-89e42fae403a%3Aamzn1.sym.86f966cb-cf80-4eda-a765-89e42fae403a&cv_ct_cx=hand+watch&keywords=hand+watch&pd_rd_i=B07951233S&pd_rd_r=5a1f71a9-12a5-44aa-a24b-4714e11824c0&pd_rd_w=I24oT&pd_rd_wg=kdcgr&pf_rd_p=86f966cb-cf80-4eda-a765-89e42fae403a&pf_rd_r=J5HPGHWQ81TM7GZRGN2T&psc=1&qid=1669288474&qu=eyJxc2MiOiI3LjM3IiwicXNhIjoiNy4yMiIsInFzcCI6IjUuNzkifQ%3D%3D&sr=1-3-41e0d225-3819-4755-898e-7f0f48633b47\n",
      "https://www.amazon.in/Crestello-L105-Blu-Ch-Stainless-Analogue-Womens/dp/B08MT5W87J/ref=sxin_15_slsr_d_i_fs4star_fa_6_B08MT5W87J?content-id=amzn1.sym.86f966cb-cf80-4eda-a765-89e42fae403a%3Aamzn1.sym.86f966cb-cf80-4eda-a765-89e42fae403a&cv_ct_cx=hand+watch&keywords=hand+watch&pd_rd_i=B08MT5W87J&pd_rd_r=5a1f71a9-12a5-44aa-a24b-4714e11824c0&pd_rd_w=I24oT&pd_rd_wg=kdcgr&pf_rd_p=86f966cb-cf80-4eda-a765-89e42fae403a&pf_rd_r=J5HPGHWQ81TM7GZRGN2T&psc=1&qid=1669288474&qu=eyJxc2MiOiI3LjM3IiwicXNhIjoiNy4yMiIsInFzcCI6IjUuNzkifQ%3D%3D&sr=1-4-41e0d225-3819-4755-898e-7f0f48633b47\n",
      "https://www.amazon.in/Timex-TW4B15500-Expedition-Scout-Slip-Thru/dp/B07FFBHM7F/ref=sxin_15_slsr_d_i_fs4star_fa_7_B07FFBHM7F?content-id=amzn1.sym.86f966cb-cf80-4eda-a765-89e42fae403a%3Aamzn1.sym.86f966cb-cf80-4eda-a765-89e42fae403a&cv_ct_cx=hand+watch&keywords=hand+watch&pd_rd_i=B07FFBHM7F&pd_rd_r=5a1f71a9-12a5-44aa-a24b-4714e11824c0&pd_rd_w=I24oT&pd_rd_wg=kdcgr&pf_rd_p=86f966cb-cf80-4eda-a765-89e42fae403a&pf_rd_r=J5HPGHWQ81TM7GZRGN2T&psc=1&qid=1669288474&qu=eyJxc2MiOiI3LjM3IiwicXNhIjoiNy4yMiIsInFzcCI6IjUuNzkifQ%3D%3D&sr=1-5-41e0d225-3819-4755-898e-7f0f48633b47\n",
      "https://www.amazon.in/Shocknshop-Digital-Sports-Multi-Functional/dp/B08XML7L67/ref=sxin_15_slsr_d_i_fs4star_fa_9_B08XML7L67?content-id=amzn1.sym.86f966cb-cf80-4eda-a765-89e42fae403a%3Aamzn1.sym.86f966cb-cf80-4eda-a765-89e42fae403a&cv_ct_cx=hand+watch&keywords=hand+watch&pd_rd_i=B08XML7L67&pd_rd_r=5a1f71a9-12a5-44aa-a24b-4714e11824c0&pd_rd_w=I24oT&pd_rd_wg=kdcgr&pf_rd_p=86f966cb-cf80-4eda-a765-89e42fae403a&pf_rd_r=J5HPGHWQ81TM7GZRGN2T&psc=1&qid=1669288474&qu=eyJxc2MiOiI3LjM3IiwicXNhIjoiNy4yMiIsInFzcCI6IjUuNzkifQ%3D%3D&sr=1-6-41e0d225-3819-4755-898e-7f0f48633b47\n",
      "https://www.amazon.in/Multifunction-Chronograph-Waterproof-Calendar-Children/dp/B0814L3F2X/ref=sxin_15_slsr_d_i_fs4star_fa_11_B0814L3F2X?content-id=amzn1.sym.86f966cb-cf80-4eda-a765-89e42fae403a%3Aamzn1.sym.86f966cb-cf80-4eda-a765-89e42fae403a&cv_ct_cx=hand+watch&keywords=hand+watch&pd_rd_i=B0814L3F2X&pd_rd_r=5a1f71a9-12a5-44aa-a24b-4714e11824c0&pd_rd_w=I24oT&pd_rd_wg=kdcgr&pf_rd_p=86f966cb-cf80-4eda-a765-89e42fae403a&pf_rd_r=J5HPGHWQ81TM7GZRGN2T&psc=1&qid=1669288474&qu=eyJxc2MiOiI3LjM3IiwicXNhIjoiNy4yMiIsInFzcCI6IjUuNzkifQ%3D%3D&sr=1-7-41e0d225-3819-4755-898e-7f0f48633b47\n",
      "https://www.amazon.in/CRRJU-Watches-Fashion-Business-Quartz/dp/B08H83LW16/ref=sxin_15_slsr_d_i_fs4star_fa_12_B08H83LW16?content-id=amzn1.sym.86f966cb-cf80-4eda-a765-89e42fae403a%3Aamzn1.sym.86f966cb-cf80-4eda-a765-89e42fae403a&cv_ct_cx=hand+watch&keywords=hand+watch&pd_rd_i=B08H83LW16&pd_rd_r=5a1f71a9-12a5-44aa-a24b-4714e11824c0&pd_rd_w=I24oT&pd_rd_wg=kdcgr&pf_rd_p=86f966cb-cf80-4eda-a765-89e42fae403a&pf_rd_r=J5HPGHWQ81TM7GZRGN2T&psc=1&qid=1669288474&qu=eyJxc2MiOiI3LjM3IiwicXNhIjoiNy4yMiIsInFzcCI6IjUuNzkifQ%3D%3D&sr=1-8-41e0d225-3819-4755-898e-7f0f48633b47\n",
      "https://www.amazon.in/Matrix-Analog-Black-Silicone-Strap/dp/B08YWVRW41/ref=sr_1_8?keywords=hand+watch&qid=1669288474&qu=eyJxc2MiOiI3LjM3IiwicXNhIjoiNy4yMiIsInFzcCI6IjUuNzkifQ%3D%3D&sr=8-8\n",
      "https://www.amazon.in/TIMEWEAR-Hands-Black-Leather-Strap/dp/B099X6MZLR/ref=sr_1_9?keywords=hand+watch&qid=1669288474&qu=eyJxc2MiOiI3LjM3IiwicXNhIjoiNy4yMiIsInFzcCI6IjUuNzkifQ%3D%3D&sr=8-9\n",
      "https://www.amazon.in/Timex-Analog-Blue-Dial-Watch-TW00ZR262E/dp/B07H3K85H5/ref=sr_1_10?keywords=hand+watch&qid=1669288474&qu=eyJxc2MiOiI3LjM3IiwicXNhIjoiNy4yMiIsInFzcCI6IjUuNzkifQ%3D%3D&sr=8-10\n",
      "https://www.amazon.in/STYLEDOSE-Diamond-Studded-Analogue-Bracelet/dp/B08YZ39MX4/ref=sr_1_11?keywords=hand+watch&qid=1669288474&qu=eyJxc2MiOiI3LjM3IiwicXNhIjoiNy4yMiIsInFzcCI6IjUuNzkifQ%3D%3D&sr=8-11\n",
      "https://www.amazon.in/Timewear-Formal-White-Dial-Watch/dp/B07DN93B9R/ref=sr_1_12?keywords=hand+watch&qid=1669288474&qu=eyJxc2MiOiI3LjM3IiwicXNhIjoiNy4yMiIsInFzcCI6IjUuNzkifQ%3D%3D&sr=8-12\n",
      "https://www.amazon.in/Matrix-Signature-Leather-Analog-Black-Black/dp/B0BC3VLBPG/ref=sr_1_13?keywords=hand+watch&qid=1669288474&qu=eyJxc2MiOiI3LjM3IiwicXNhIjoiNy4yMiIsInFzcCI6IjUuNzkifQ%3D%3D&sr=8-13\n",
      "https://www.amazon.in/Relish-Analogue-Black-Watch-RE-BB1034DD/dp/B07SMDYDT7/ref=sr_1_14?keywords=hand+watch&qid=1669288474&qu=eyJxc2MiOiI3LjM3IiwicXNhIjoiNy4yMiIsInFzcCI6IjUuNzkifQ%3D%3D&sr=8-14\n",
      "https://www.amazon.in/CURREN-Watches-Chronograph-Bracelet-Wristwatch/dp/B07YLTLXH3/ref=sxin_24_slsr_d_i_fsnewarrivals_fa_0_B07YLTLXH3?content-id=amzn1.sym.faee602f-6f4c-4811-a551-aeb8b0834613%3Aamzn1.sym.faee602f-6f4c-4811-a551-aeb8b0834613&cv_ct_cx=hand+watch&keywords=hand+watch&pd_rd_i=B07YLTLXH3&pd_rd_r=5a1f71a9-12a5-44aa-a24b-4714e11824c0&pd_rd_w=anNBH&pd_rd_wg=kdcgr&pf_rd_p=faee602f-6f4c-4811-a551-aeb8b0834613&pf_rd_r=J5HPGHWQ81TM7GZRGN2T&psc=1&qid=1669288474&qu=eyJxc2MiOiI3LjM3IiwicXNhIjoiNy4yMiIsInFzcCI6IjUuNzkifQ%3D%3D&sr=1-1-5b2ee5ec-0735-4782-9f3a-9d21a55133d0\n",
      "https://www.amazon.in/EARNSHAW-Longitude-Automatic-Multifunction-Silver/dp/B00EP5A8RQ/ref=sxin_24_slsr_d_i_fsnewarrivals_fa_1_B00EP5A8RQ?content-id=amzn1.sym.faee602f-6f4c-4811-a551-aeb8b0834613%3Aamzn1.sym.faee602f-6f4c-4811-a551-aeb8b0834613&cv_ct_cx=hand+watch&keywords=hand+watch&pd_rd_i=B00EP5A8RQ&pd_rd_r=5a1f71a9-12a5-44aa-a24b-4714e11824c0&pd_rd_w=anNBH&pd_rd_wg=kdcgr&pf_rd_p=faee602f-6f4c-4811-a551-aeb8b0834613&pf_rd_r=J5HPGHWQ81TM7GZRGN2T&psc=1&qid=1669288474&qu=eyJxc2MiOiI3LjM3IiwicXNhIjoiNy4yMiIsInFzcCI6IjUuNzkifQ%3D%3D&sr=1-2-5b2ee5ec-0735-4782-9f3a-9d21a55133d0\n",
      "https://www.amazon.in/Bulova-96B107-Strap-Silver-Watch/dp/B0037UZVAY/ref=sxin_24_slsr_d_i_fsnewarrivals_fa_2_B0037UZVAY?content-id=amzn1.sym.faee602f-6f4c-4811-a551-aeb8b0834613%3Aamzn1.sym.faee602f-6f4c-4811-a551-aeb8b0834613&cv_ct_cx=hand+watch&keywords=hand+watch&pd_rd_i=B0037UZVAY&pd_rd_r=5a1f71a9-12a5-44aa-a24b-4714e11824c0&pd_rd_w=anNBH&pd_rd_wg=kdcgr&pf_rd_p=faee602f-6f4c-4811-a551-aeb8b0834613&pf_rd_r=J5HPGHWQ81TM7GZRGN2T&psc=1&qid=1669288474&qu=eyJxc2MiOiI3LjM3IiwicXNhIjoiNy4yMiIsInFzcCI6IjUuNzkifQ%3D%3D&sr=1-3-5b2ee5ec-0735-4782-9f3a-9d21a55133d0\n",
      "https://www.amazon.in/Luminous-Ladies-Watches-Stainless-Wristwatch/dp/B07PMZ31C3/ref=sxin_24_slsr_d_i_fsnewarrivals_fa_3_B07PMZ31C3?content-id=amzn1.sym.faee602f-6f4c-4811-a551-aeb8b0834613%3Aamzn1.sym.faee602f-6f4c-4811-a551-aeb8b0834613&cv_ct_cx=hand+watch&keywords=hand+watch&pd_rd_i=B07PMZ31C3&pd_rd_r=5a1f71a9-12a5-44aa-a24b-4714e11824c0&pd_rd_w=anNBH&pd_rd_wg=kdcgr&pf_rd_p=faee602f-6f4c-4811-a551-aeb8b0834613&pf_rd_r=J5HPGHWQ81TM7GZRGN2T&psc=1&qid=1669288474&qu=eyJxc2MiOiI3LjM3IiwicXNhIjoiNy4yMiIsInFzcCI6IjUuNzkifQ%3D%3D&sr=1-4-5b2ee5ec-0735-4782-9f3a-9d21a55133d0\n",
      "https://www.amazon.in/Bulova-Automatic-Analog-Black-Watch/dp/B00CQ7I3WW/ref=sxin_24_slsr_d_i_fsnewarrivals_fa_4_B00CQ7I3WW?content-id=amzn1.sym.faee602f-6f4c-4811-a551-aeb8b0834613%3Aamzn1.sym.faee602f-6f4c-4811-a551-aeb8b0834613&cv_ct_cx=hand+watch&keywords=hand+watch&pd_rd_i=B00CQ7I3WW&pd_rd_r=5a1f71a9-12a5-44aa-a24b-4714e11824c0&pd_rd_w=anNBH&pd_rd_wg=kdcgr&pf_rd_p=faee602f-6f4c-4811-a551-aeb8b0834613&pf_rd_r=J5HPGHWQ81TM7GZRGN2T&psc=1&qid=1669288474&qu=eyJxc2MiOiI3LjM3IiwicXNhIjoiNy4yMiIsInFzcCI6IjUuNzkifQ%3D%3D&sr=1-5-5b2ee5ec-0735-4782-9f3a-9d21a55133d0\n",
      "https://www.amazon.in/MVMT-Classic-L213-5L-551-Leather-Fashion/dp/B07FD13XZC/ref=sxin_24_slsr_d_i_fsnewarrivals_fa_5_B07FD13XZC?content-id=amzn1.sym.faee602f-6f4c-4811-a551-aeb8b0834613%3Aamzn1.sym.faee602f-6f4c-4811-a551-aeb8b0834613&cv_ct_cx=hand+watch&keywords=hand+watch&pd_rd_i=B07FD13XZC&pd_rd_r=5a1f71a9-12a5-44aa-a24b-4714e11824c0&pd_rd_w=anNBH&pd_rd_wg=kdcgr&pf_rd_p=faee602f-6f4c-4811-a551-aeb8b0834613&pf_rd_r=J5HPGHWQ81TM7GZRGN2T&psc=1&qid=1669288474&qu=eyJxc2MiOiI3LjM3IiwicXNhIjoiNy4yMiIsInFzcCI6IjUuNzkifQ%3D%3D&sr=1-6-5b2ee5ec-0735-4782-9f3a-9d21a55133d0\n",
      "https://www.amazon.in/Unique-Automatic-Transparent-Hollow-Skeleton/dp/B07KFMX87K/ref=sxin_24_slsr_d_i_fsnewarrivals_fa_6_B07KFMX87K?content-id=amzn1.sym.faee602f-6f4c-4811-a551-aeb8b0834613%3Aamzn1.sym.faee602f-6f4c-4811-a551-aeb8b0834613&cv_ct_cx=hand+watch&keywords=hand+watch&pd_rd_i=B07KFMX87K&pd_rd_r=5a1f71a9-12a5-44aa-a24b-4714e11824c0&pd_rd_w=anNBH&pd_rd_wg=kdcgr&pf_rd_p=faee602f-6f4c-4811-a551-aeb8b0834613&pf_rd_r=J5HPGHWQ81TM7GZRGN2T&psc=1&qid=1669288474&qu=eyJxc2MiOiI3LjM3IiwicXNhIjoiNy4yMiIsInFzcCI6IjUuNzkifQ%3D%3D&sr=1-7-5b2ee5ec-0735-4782-9f3a-9d21a55133d0\n",
      "https://www.amazon.in/SINOBI-Analogue-Mens-Black-Watch/dp/B09CFZ6HS1/ref=sxin_24_slsr_d_i_fsnewarrivals_fa_7_B09CFZ6HS1?content-id=amzn1.sym.faee602f-6f4c-4811-a551-aeb8b0834613%3Aamzn1.sym.faee602f-6f4c-4811-a551-aeb8b0834613&cv_ct_cx=hand+watch&keywords=hand+watch&pd_rd_i=B09CFZ6HS1&pd_rd_r=5a1f71a9-12a5-44aa-a24b-4714e11824c0&pd_rd_w=anNBH&pd_rd_wg=kdcgr&pf_rd_p=faee602f-6f4c-4811-a551-aeb8b0834613&pf_rd_r=J5HPGHWQ81TM7GZRGN2T&psc=1&qid=1669288474&qu=eyJxc2MiOiI3LjM3IiwicXNhIjoiNy4yMiIsInFzcCI6IjUuNzkifQ%3D%3D&sr=1-8-5b2ee5ec-0735-4782-9f3a-9d21a55133d0\n",
      "https://www.amazon.in/Matrix-Collection-Wrist-Watch-DD-66/dp/B07XT45Z59/ref=sr_1_15?keywords=hand+watch&qid=1669288474&qu=eyJxc2MiOiI3LjM3IiwicXNhIjoiNy4yMiIsInFzcCI6IjUuNzkifQ%3D%3D&sr=8-15\n",
      "https://www.amazon.in/TIMEWEAR-Slim-Analog-Black-Watch/dp/B079X2D41C/ref=sr_1_16?keywords=hand+watch&qid=1669288474&qu=eyJxc2MiOiI3LjM3IiwicXNhIjoiNy4yMiIsInFzcCI6IjUuNzkifQ%3D%3D&sr=8-16\n",
      "https://www.amazon.in/boAt-Wave-Call-Dedicated-Multi-Sport/dp/B0B5B6PQCT/ref=sr_1_17?keywords=hand+watch&qid=1669288474&qu=eyJxc2MiOiI3LjM3IiwicXNhIjoiNy4yMiIsInFzcCI6IjUuNzkifQ%3D%3D&sr=8-17\n",
      "https://www.amazon.in/Redux-Premium-Functioning-Golden-Chain/dp/B07S5ZTTHJ/ref=sr_1_18?keywords=hand+watch&qid=1669288474&qu=eyJxc2MiOiI3LjM3IiwicXNhIjoiNy4yMiIsInFzcCI6IjUuNzkifQ%3D%3D&sr=8-18\n",
      "https://www.amazon.in/Redux-Analogue-Blue-Watch-RWS0216S/dp/B07KVZD6XM/ref=sr_1_19?keywords=hand+watch&qid=1669288474&qu=eyJxc2MiOiI3LjM3IiwicXNhIjoiNy4yMiIsInFzcCI6IjUuNzkifQ%3D%3D&sr=8-19\n",
      "https://www.amazon.in/Fastrack-Black-Magic-Analog-Watch-NK3089SL05/dp/B00BSE5WQ4/ref=sr_1_20?keywords=hand+watch&qid=1669288474&qu=eyJxc2MiOiI3LjM3IiwicXNhIjoiNy4yMiIsInFzcCI6IjUuNzkifQ%3D%3D&sr=8-20\n",
      "https://www.amazon.in/sspa/click?ie=UTF8&spc=MTo0MDY4NDk1MjY4MTIzMzc6MTY2OTI4ODQ3NDpzcF9tdGY6MjAwNzM5NzkyMjUxOTg6OjA6Og&url=%2FIIk-Collection-Watches-Analogue-Black%2Fdp%2FB0144JI572%2Fref%3Dsr_1_21_sspa%3Fkeywords%3Dhand%2Bwatch%26qid%3D1669288474%26qu%3DeyJxc2MiOiI3LjM3IiwicXNhIjoiNy4yMiIsInFzcCI6IjUuNzkifQ%253D%253D%26sr%3D8-21-spons%26sp_csd%3Dd2lkZ2V0TmFtZT1zcF9tdGY%26psc%3D1\n",
      "https://www.amazon.in/sspa/click?ie=UTF8&spc=MTo0MDY4NDk1MjY4MTIzMzc6MTY2OTI4ODQ3NDpzcF9tdGY6MjAwNTQ0MzkyMDc1OTg6OjA6Og&url=%2FAcnos-Brand-Shockproof-Multi-Functional-Waterproof%2Fdp%2FB08YP6S6HW%2Fref%3Dsr_1_22_sspa%3Fkeywords%3Dhand%2Bwatch%26qid%3D1669288474%26qu%3DeyJxc2MiOiI3LjM3IiwicXNhIjoiNy4yMiIsInFzcCI6IjUuNzkifQ%253D%253D%26sr%3D8-22-spons%26sp_csd%3Dd2lkZ2V0TmFtZT1zcF9tdGY%26psc%3D1\n",
      "https://www.amazon.in/sspa/click?ie=UTF8&spc=MTo0MDY4NDk1MjY4MTIzMzc6MTY2OTI4ODQ3NDpzcF9tdGY6MjAwNzk1MTYyODMwOTg6OjA6Og&url=%2FCERO-Analogue-Black-Metal-Bracelet%2Fdp%2FB097PZJYVS%2Fref%3Dsr_1_23_sspa%3Fkeywords%3Dhand%2Bwatch%26qid%3D1669288474%26qu%3DeyJxc2MiOiI3LjM3IiwicXNhIjoiNy4yMiIsInFzcCI6IjUuNzkifQ%253D%253D%26sr%3D8-23-spons%26sp_csd%3Dd2lkZ2V0TmFtZT1zcF9tdGY%26psc%3D1\n",
      "https://www.amazon.in/sspa/click?ie=UTF8&spc=MTo0MDY4NDk1MjY4MTIzMzc6MTY2OTI4ODQ3NDpzcF9tdGY6MjAwMTkyMjg4ODE0OTg6OjA6Og&url=%2FEmartos-Black-Arrow-Watch-Bracelet%2Fdp%2FB09MP8S7JT%2Fref%3Dsr_1_24_sspa%3Fkeywords%3Dhand%2Bwatch%26qid%3D1669288474%26qu%3DeyJxc2MiOiI3LjM3IiwicXNhIjoiNy4yMiIsInFzcCI6IjUuNzkifQ%253D%253D%26sr%3D8-24-spons%26sp_csd%3Dd2lkZ2V0TmFtZT1zcF9tdGY%26psc%3D1\n",
      "https://www.amazon.in/Sonata-Analog-White-Dial-Watch-NJ7987YL02W/dp/B00K2Q2SFW/ref=sr_1_25?keywords=hand+watch&qid=1669288474&qu=eyJxc2MiOiI3LjM3IiwicXNhIjoiNy4yMiIsInFzcCI6IjUuNzkifQ%3D%3D&sr=8-25\n",
      "https://www.amazon.in/TIMEWEAR-Functioning-White-Chain-Watch/dp/B07MDGSP8F/ref=sr_1_26?keywords=hand+watch&qid=1669288474&qu=eyJxc2MiOiI3LjM3IiwicXNhIjoiNy4yMiIsInFzcCI6IjUuNzkifQ%3D%3D&sr=8-26\n",
      "https://www.amazon.in/Redux-Stainless-Steel-Analog-RWS0042S/dp/B073S8ZPDZ/ref=sr_1_27?keywords=hand+watch&qid=1669288474&qu=eyJxc2MiOiI3LjM3IiwicXNhIjoiNy4yMiIsInFzcCI6IjUuNzkifQ%3D%3D&sr=8-27\n",
      "https://www.amazon.in/RPS-FASHION-DEVICE-Digital-Colored/dp/B08G4J9V2X/ref=sr_1_28?keywords=hand+watch&qid=1669288474&qu=eyJxc2MiOiI3LjM3IiwicXNhIjoiNy4yMiIsInFzcCI6IjUuNzkifQ%3D%3D&sr=8-28\n",
      "https://www.amazon.in/TIMEWEAR-White-Brown-Strap-Watch/dp/B07NC8F8MJ/ref=sr_1_29?keywords=hand+watch&qid=1669288474&qu=eyJxc2MiOiI3LjM3IiwicXNhIjoiNy4yMiIsInFzcCI6IjUuNzkifQ%3D%3D&sr=8-29\n",
      "https://www.amazon.in/Relish-Stainless-Leather-Display-RE-BB1059/dp/B084P84V9S/ref=sr_1_30?keywords=hand+watch&qid=1669288474&qu=eyJxc2MiOiI3LjM3IiwicXNhIjoiNy4yMiIsInFzcCI6IjUuNzkifQ%3D%3D&sr=8-30\n",
      "https://www.amazon.in/Sonata-Yuva-Analog-Black-Watch-NK7924SL04/dp/B00B81M1ZM/ref=sr_1_31?keywords=hand+watch&qid=1669288474&qu=eyJxc2MiOiI3LjM3IiwicXNhIjoiNy4yMiIsInFzcCI6IjUuNzkifQ%3D%3D&sr=8-31\n",
      "https://www.amazon.in/TAGG-Verve-Smartwatch-Real-Time-Waterproof/dp/B09HHCJ2CK/ref=sr_1_32?keywords=hand+watch&qid=1669288474&qu=eyJxc2MiOiI3LjM3IiwicXNhIjoiNy4yMiIsInFzcCI6IjUuNzkifQ%3D%3D&sr=8-32\n",
      "https://www.amazon.in/Fastrack-Casual-Analog-Navy-Watch-NK3120SM02/dp/B00NLAUB0K/ref=sr_1_33?keywords=hand+watch&qid=1669288474&qu=eyJxc2MiOiI3LjM3IiwicXNhIjoiNy4yMiIsInFzcCI6IjUuNzkifQ%3D%3D&sr=8-33\n",
      "https://www.amazon.in/Acnos-Casual-Analogue-Standard-Colored/dp/B08W2T1KVW/ref=sr_1_34?keywords=hand+watch&qid=1669288474&qu=eyJxc2MiOiI3LjM3IiwicXNhIjoiNy4yMiIsInFzcCI6IjUuNzkifQ%3D%3D&sr=8-34\n",
      "https://www.amazon.in/Shocknshop-Digital-Sports-Functional-315RED/dp/B08X1HCVWF/ref=sr_1_35?keywords=hand+watch&qid=1669288474&qu=eyJxc2MiOiI3LjM3IiwicXNhIjoiNy4yMiIsInFzcCI6IjUuNzkifQ%3D%3D&sr=8-35\n",
      "https://www.amazon.in/SWADESI-STUFF-Silicon-Stylish-Designer/dp/B0989HT44R/ref=sr_1_36?keywords=hand+watch&qid=1669288474&qu=eyJxc2MiOiI3LjM3IiwicXNhIjoiNy4yMiIsInFzcCI6IjUuNzkifQ%3D%3D&sr=8-36\n",
      "https://www.amazon.in/Sonata-Analog-Champagne-Dial-Watch-77049YM01C/dp/B072VHGQJK/ref=sr_1_37?keywords=hand+watch&qid=1669288474&qu=eyJxc2MiOiI3LjM3IiwicXNhIjoiNy4yMiIsInFzcCI6IjUuNzkifQ%3D%3D&sr=8-37\n",
      "https://www.amazon.in/Shocknshop-Digital-Sports-Functional-W1257/dp/B09SCM5MHT/ref=sr_1_38?keywords=hand+watch&qid=1669288474&qu=eyJxc2MiOiI3LjM3IiwicXNhIjoiNy4yMiIsInFzcCI6IjUuNzkifQ%3D%3D&sr=8-38\n",
      "https://www.amazon.in/TIMEWEAR-Hands-Leather-Strap-Square/dp/B09MKMBGQ8/ref=sr_1_39?keywords=hand+watch&qid=1669288474&qu=eyJxc2MiOiI3LjM3IiwicXNhIjoiNy4yMiIsInFzcCI6IjUuNzkifQ%3D%3D&sr=8-39\n",
      "https://www.amazon.in/Swisstyle-Anolog-Black-Dial-Watch-SS-GR06612-BLK-CH/dp/B078HLGKJW/ref=sr_1_40?keywords=hand+watch&qid=1669288474&qu=eyJxc2MiOiI3LjM3IiwicXNhIjoiNy4yMiIsInFzcCI6IjUuNzkifQ%3D%3D&sr=8-40\n",
      "https://www.amazon.in/Lorenz-Black-Watch-Boys-MK-2041W/dp/B07NL5JQ23/ref=sr_1_41?keywords=hand+watch&qid=1669288474&qu=eyJxc2MiOiI3LjM3IiwicXNhIjoiNy4yMiIsInFzcCI6IjUuNzkifQ%3D%3D&sr=8-41\n",
      "https://www.amazon.in/Sylvi-Business-Digital-Military-Analog-Digital/dp/B07SCB4H48/ref=sr_1_42?keywords=hand+watch&qid=1669288474&qu=eyJxc2MiOiI3LjM3IiwicXNhIjoiNy4yMiIsInFzcCI6IjUuNzkifQ%3D%3D&sr=8-42\n",
      "https://www.amazon.in/Fire-Boltt-Smartwatch-Sports-Tracking-Silver/dp/B09YV463SW/ref=sr_1_43?keywords=hand+watch&qid=1669288474&qu=eyJxc2MiOiI3LjM3IiwicXNhIjoiNy4yMiIsInFzcCI6IjUuNzkifQ%3D%3D&sr=8-43\n",
      "https://www.amazon.in/Swadesi-Stuff-Stainless-Stylish-Analog/dp/B09B61Q1MY/ref=sr_1_44?keywords=hand+watch&qid=1669288474&qu=eyJxc2MiOiI3LjM3IiwicXNhIjoiNy4yMiIsInFzcCI6IjUuNzkifQ%3D%3D&sr=8-44\n",
      "https://www.amazon.in/Timewear-Military-Analogue-Digital-Black/dp/B07L3351J4/ref=sr_1_45?keywords=hand+watch&qid=1669288474&qu=eyJxc2MiOiI3LjM3IiwicXNhIjoiNy4yMiIsInFzcCI6IjUuNzkifQ%3D%3D&sr=8-45\n",
      "https://www.amazon.in/Acnos-Digital-Army-Leather-Watch/dp/B07ST44K87/ref=sr_1_46?keywords=hand+watch&qid=1669288474&qu=eyJxc2MiOiI3LjM3IiwicXNhIjoiNy4yMiIsInFzcCI6IjUuNzkifQ%3D%3D&sr=8-46\n",
      "https://www.amazon.in/Acnos-Brown-Black-Analog-Watches/dp/B07TY75QP6/ref=sr_1_47?keywords=hand+watch&qid=1669288474&qu=eyJxc2MiOiI3LjM3IiwicXNhIjoiNy4yMiIsInFzcCI6IjUuNzkifQ%3D%3D&sr=8-47\n",
      "https://www.amazon.in/Laurrens-HMT-DLX-Quartz-Original-Functioning/dp/B09Q8TJF92/ref=sr_1_48?keywords=hand+watch&qid=1669288474&qu=eyJxc2MiOiI3LjM3IiwicXNhIjoiNy4yMiIsInFzcCI6IjUuNzkifQ%3D%3D&sr=8-48\n",
      "https://www.amazon.in/Sonata-Essentials-Analog-Womens-Watch-87020SM01/dp/B077XQ3JWC/ref=sr_1_49?keywords=hand+watch&qid=1669288474&qu=eyJxc2MiOiI3LjM3IiwicXNhIjoiNy4yMiIsInFzcCI6IjUuNzkifQ%3D%3D&sr=8-49\n",
      "https://www.amazon.in/TIMEWEAR-Analog-Hands-Black-Strap/dp/B0B31P9WY7/ref=sr_1_50?keywords=hand+watch&qid=1669288474&qu=eyJxc2MiOiI3LjM3IiwicXNhIjoiNy4yMiIsInFzcCI6IjUuNzkifQ%3D%3D&sr=8-50\n",
      "https://www.amazon.in/TIMEWEAR-Analog-Brown-Strap-Hands/dp/B08WLWS9QP/ref=sr_1_51?keywords=hand+watch&qid=1669288474&qu=eyJxc2MiOiI3LjM3IiwicXNhIjoiNy4yMiIsInFzcCI6IjUuNzkifQ%3D%3D&sr=8-51\n",
      "https://www.amazon.in/SKMEI-Analogue-Digital-Watch-1688_RG/dp/B08GD2YMTG/ref=sr_1_52?keywords=hand+watch&qid=1669288474&qu=eyJxc2MiOiI3LjM3IiwicXNhIjoiNy4yMiIsInFzcCI6IjUuNzkifQ%3D%3D&sr=8-52\n",
      "https://www.amazon.in/Timex-Analog-Blue-Dial-Watch-TW0TG7502/dp/B083JVP51P/ref=sr_1_53?keywords=hand+watch&qid=1669288474&qu=eyJxc2MiOiI3LjM3IiwicXNhIjoiNy4yMiIsInFzcCI6IjUuNzkifQ%3D%3D&sr=8-53\n",
      "https://www.amazon.in/Redux-MW-404-Analogue-Green-Watch/dp/B09FTM37DG/ref=sr_1_54?keywords=hand+watch&qid=1669288474&qu=eyJxc2MiOiI3LjM3IiwicXNhIjoiNy4yMiIsInFzcCI6IjUuNzkifQ%3D%3D&sr=8-54\n",
      "https://www.amazon.in/SELLORIA-Shock-Digital-Watch-Years/dp/B08X6LNL9Z/ref=sr_1_55?keywords=hand+watch&qid=1669288474&qu=eyJxc2MiOiI3LjM3IiwicXNhIjoiNy4yMiIsInFzcCI6IjUuNzkifQ%3D%3D&sr=8-55\n",
      "https://www.amazon.in/SWADESI-STUFF-Digital-Multicolored-Colored/dp/B083L7W4SJ/ref=sr_1_56?keywords=hand+watch&qid=1669288474&qu=eyJxc2MiOiI3LjM3IiwicXNhIjoiNy4yMiIsInFzcCI6IjUuNzkifQ%3D%3D&sr=8-56\n",
      "https://www.amazon.in/sspa/click?ie=UTF8&spc=MTo0MDY4NDk1MjY4MTIzMzc6MTY2OTI4ODQ3NDpzcF9idGY6MjAwMjg3Mjg3ODM3OTg6OjA6Og&url=%2FImperial-Club-Golden-Watches-wcm-004%2Fdp%2FB07GKYFJGM%2Fref%3Dsr_1_57_sspa%3Fkeywords%3Dhand%2Bwatch%26qid%3D1669288474%26qu%3DeyJxc2MiOiI3LjM3IiwicXNhIjoiNy4yMiIsInFzcCI6IjUuNzkifQ%253D%253D%26sr%3D8-57-spons%26sp_csd%3Dd2lkZ2V0TmFtZT1zcF9idGY%26psc%3D1\n",
      "https://www.amazon.in/sspa/click?ie=UTF8&spc=MTo0MDY4NDk1MjY4MTIzMzc6MTY2OTI4ODQ3NDpzcF9idGY6MjAwOTAyMTUzMTAyOTg6OjA6Og&url=%2FJubilee-Jewels-Mechanical-Hand-Winding-Antique%2Fdp%2FB0BDZWH7D6%2Fref%3Dsr_1_58_sspa%3Fkeywords%3Dhand%2Bwatch%26qid%3D1669288474%26qu%3DeyJxc2MiOiI3LjM3IiwicXNhIjoiNy4yMiIsInFzcCI6IjUuNzkifQ%253D%253D%26sr%3D8-58-spons%26sp_csd%3Dd2lkZ2V0TmFtZT1zcF9idGY%26psc%3D1\n",
      "https://www.amazon.in/sspa/click?ie=UTF8&spc=MTo0MDY4NDk1MjY4MTIzMzc6MTY2OTI4ODQ3NDpzcF9idGY6MjAwOTAyMTUzMTExOTg6OjA6Og&url=%2FJanata-Jewels-Mechanical-Hand-Winding-Antique%2Fdp%2FB0BDM9W86J%2Fref%3Dsr_1_59_sspa%3Fkeywords%3Dhand%2Bwatch%26qid%3D1669288474%26qu%3DeyJxc2MiOiI3LjM3IiwicXNhIjoiNy4yMiIsInFzcCI6IjUuNzkifQ%253D%253D%26sr%3D8-59-spons%26sp_csd%3Dd2lkZ2V0TmFtZT1zcF9idGY%26psc%3D1\n",
      "https://www.amazon.in/sspa/click?ie=UTF8&spc=MTo0MDY4NDk1MjY4MTIzMzc6MTY2OTI4ODQ3NDpzcF9idGY6MjAwMjc2NjQxOTU1OTg6OjA6Og&url=%2FFrozil-Analogue-Blue-Sports-Watch%2Fdp%2FB085L5DLJH%2Fref%3Dsr_1_60_sspa%3Fkeywords%3Dhand%2Bwatch%26qid%3D1669288474%26qu%3DeyJxc2MiOiI3LjM3IiwicXNhIjoiNy4yMiIsInFzcCI6IjUuNzkifQ%253D%253D%26sr%3D8-60-spons%26sp_csd%3Dd2lkZ2V0TmFtZT1zcF9idGY%26psc%3D1\n",
      "https://www.amazon.in/Amazfit-Satellite-Positioning-Waterproof-Midnight/dp/B0B59PWQF8/ref=sxbs_sbv_search_btf?content-id=amzn1.sym.d85289ff-7b04-49b7-8f39-1b9f677610ec%3Aamzn1.sym.d85289ff-7b04-49b7-8f39-1b9f677610ec&cv_ct_cx=hand+watch&keywords=hand+watch&pd_rd_i=B0B59PWQF8&pd_rd_r=213f7473-40d2-4869-a9b9-86814c2830f5&pd_rd_w=FiS4T&pd_rd_wg=PZjbp&pf_rd_p=d85289ff-7b04-49b7-8f39-1b9f677610ec&pf_rd_r=J5HPGHWQ81TM7GZRGN2T&psc=1&qid=1669288474&qu=eyJxc2MiOiI3LjM3IiwicXNhIjoiNy4yMiIsInFzcCI6IjUuNzkifQ%3D%3D&sr=1-1-f1821008-9dea-4812-b2b6-4a6e4a4f2d55\n"
     ]
    }
   ],
   "source": [
    "url =driver.find_elements(By.XPATH,\"//a[@class='a-link-normal s-underline-text s-underline-link-text s-link-style a-text-normal']\")\n",
    "for i in url:\n",
    "    \n",
    "    \n",
    "    print(i.get_attribute('href'))"
   ]
  },
  {
   "cell_type": "code",
   "execution_count": null,
   "id": "b48f983b",
   "metadata": {},
   "outputs": [],
   "source": []
  }
 ],
 "metadata": {
  "kernelspec": {
   "display_name": "Python 3 (ipykernel)",
   "language": "python",
   "name": "python3"
  },
  "language_info": {
   "codemirror_mode": {
    "name": "ipython",
    "version": 3
   },
   "file_extension": ".py",
   "mimetype": "text/x-python",
   "name": "python",
   "nbconvert_exporter": "python",
   "pygments_lexer": "ipython3",
   "version": "3.9.12"
  }
 },
 "nbformat": 4,
 "nbformat_minor": 5
}
